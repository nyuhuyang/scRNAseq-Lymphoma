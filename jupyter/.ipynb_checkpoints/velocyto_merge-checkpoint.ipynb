{
 "cells": [
  {
   "cell_type": "markdown",
   "metadata": {},
   "source": [
    "#  Merging multiple samples/lanes in a single file\n",
    "\n",
    "The pipeline gives an introduction to the basic steps of merging multiple loom files into a single file."
   ]
  },
  {
   "cell_type": "markdown",
   "metadata": {},
   "source": [
    "### Velocyto Loom\n",
    "\n",
    "Setup the environment"
   ]
  },
  {
   "cell_type": "code",
   "execution_count": 1,
   "metadata": {},
   "outputs": [
    {
     "name": "stderr",
     "output_type": "stream",
     "text": [
      "/home/yah2014/anaconda3/lib/python3.6/site-packages/h5py/__init__.py:36: FutureWarning: Conversion of the second argument of issubdtype from `float` to `np.floating` is deprecated. In future, it will be treated as `np.float64 == np.dtype(float).type`.\n",
      "  from ._conv import register_converters as _register_converters\n"
     ]
    },
    {
     "name": "stdout",
     "output_type": "stream",
     "text": [
      "/pbtech_mounts/homes030/yah2014/Dropbox/Public/Olivier/Projects/scRNAseq-Lymphoma/data\n"
     ]
    }
   ],
   "source": [
    "import os\n",
    "import loompy\n",
    "path=\"/home/yah2014/Dropbox/Public/Olivier/Projects/scRNAseq-Lymphoma/data\"\n",
    "os.chdir(path) # change current path\n",
    "print(os.getcwd())"
   ]
  },
  {
   "cell_type": "markdown",
   "metadata": {},
   "source": [
    "List all filer folder's names."
   ]
  },
  {
   "cell_type": "code",
   "execution_count": 2,
   "metadata": {},
   "outputs": [
    {
     "name": "stdout",
     "output_type": "stream",
     "text": [
      "['3119T1', '3119T6', 'I17_1733', 'IP-10927', 'IP8672', 'TR_619_mouse_2080', 'TR_619_mouse_2083', 'TR624_M2102']\n"
     ]
    }
   ],
   "source": [
    "file_folders=os.listdir(os.getcwd())  # list files\n",
    "print(file_folders)\n",
    "primary=['I17_1733', 'IP-10927', 'IP8672']\n",
    "PDX=['3119T1', '3119T6', 'TR_619_mouse_2080', 'TR_619_mouse_2083', 'TR624_M2102']"
   ]
  },
  {
   "cell_type": "markdown",
   "metadata": {},
   "source": [
    "List all paths and .loom files"
   ]
  },
  {
   "cell_type": "code",
   "execution_count": 3,
   "metadata": {},
   "outputs": [
    {
     "name": "stdout",
     "output_type": "stream",
     "text": [
      "-rw-r--r-- 1 yah2014 oelab 109M May 17 16:02 /home/yah2014/Dropbox/Public/Olivier/Projects/scRNAseq-Lymphoma/data/I17_1733/velocyto/I17_1733.loom\n",
      "-rw-r--r-- 1 yah2014 oelab 117M May 17 16:03 /home/yah2014/Dropbox/Public/Olivier/Projects/scRNAseq-Lymphoma/data/IP-10927/velocyto/IP-10927.loom\n",
      "-rw-r--r-- 1 yah2014 oelab 110M May 17 16:04 /home/yah2014/Dropbox/Public/Olivier/Projects/scRNAseq-Lymphoma/data/IP8672/velocyto/IP8672.loom\n"
     ]
    }
   ],
   "source": [
    "primary_files=[]\n",
    "for file in primary:\n",
    "    file_path = os.path.join(path, file, \"velocyto\",file+'.loom')\n",
    "    !ls -lh $file_path\n",
    "    primary_files.append(file_path)"
   ]
  },
  {
   "cell_type": "code",
   "execution_count": 4,
   "metadata": {},
   "outputs": [
    {
     "name": "stdout",
     "output_type": "stream",
     "text": [
      "-rw-r--r-- 1 yah2014 oelab 47M May 16 18:24 /home/yah2014/Dropbox/Public/Olivier/Projects/scRNAseq-Lymphoma/data/3119T1/velocyto/3119T1.loom\n",
      "-rw-r--r-- 1 yah2014 oelab 147M May 17 16:01 /home/yah2014/Dropbox/Public/Olivier/Projects/scRNAseq-Lymphoma/data/3119T6/velocyto/3119T6.loom\n",
      "-rw-r--r-- 1 yah2014 oelab 189M May 17 16:06 /home/yah2014/Dropbox/Public/Olivier/Projects/scRNAseq-Lymphoma/data/TR_619_mouse_2080/velocyto/TR_619_mouse_2080.loom\n",
      "-rw-r--r-- 1 yah2014 oelab 193M May 17 16:08 /home/yah2014/Dropbox/Public/Olivier/Projects/scRNAseq-Lymphoma/data/TR_619_mouse_2083/velocyto/TR_619_mouse_2083.loom\n",
      "-rw-r--r-- 1 yah2014 oelab 179M May 17 16:10 /home/yah2014/Dropbox/Public/Olivier/Projects/scRNAseq-Lymphoma/data/TR624_M2102/velocyto/TR624_M2102.loom\n"
     ]
    }
   ],
   "source": [
    "PDX_files=[]\n",
    "for file in PDX:\n",
    "    file_path = os.path.join(path, file, \"velocyto\",file+'.loom')\n",
    "    !ls -lh $file_path\n",
    "    PDX_files.append(file_path)"
   ]
  },
  {
   "cell_type": "markdown",
   "metadata": {},
   "source": [
    "### Merging multiple samples/lanes in a single file\n",
    "Let’s start with loading the content of the .loom file into an interactive session of python."
   ]
  },
  {
   "cell_type": "code",
   "execution_count": 6,
   "metadata": {},
   "outputs": [
    {
     "name": "stderr",
     "output_type": "stream",
     "text": [
      "WARNING:root:╭── 'batch_scan_layers' is deprecated. Use 'scan' instead\n",
      "WARNING:root:╰──> at /home/yah2014/anaconda3/lib/python3.6/site-packages/loompy/loompy.py, line 399\n",
      "WARNING:root:╭── 'batch_scan_layers' is deprecated. Use 'scan' instead\n",
      "WARNING:root:╰──> at /home/yah2014/anaconda3/lib/python3.6/site-packages/loompy/loompy.py, line 399\n"
     ]
    }
   ],
   "source": [
    "loompy.combine(primary_files, \"primary_3.loom\")"
   ]
  },
  {
   "cell_type": "code",
   "execution_count": 7,
   "metadata": {},
   "outputs": [
    {
     "name": "stderr",
     "output_type": "stream",
     "text": [
      "WARNING:root:╭── 'batch_scan_layers' is deprecated. Use 'scan' instead\n",
      "WARNING:root:╰──> at /home/yah2014/anaconda3/lib/python3.6/site-packages/loompy/loompy.py, line 399\n",
      "WARNING:root:╭── 'batch_scan_layers' is deprecated. Use 'scan' instead\n",
      "WARNING:root:╰──> at /home/yah2014/anaconda3/lib/python3.6/site-packages/loompy/loompy.py, line 399\n",
      "WARNING:root:╭── 'batch_scan_layers' is deprecated. Use 'scan' instead\n",
      "WARNING:root:╰──> at /home/yah2014/anaconda3/lib/python3.6/site-packages/loompy/loompy.py, line 399\n",
      "WARNING:root:╭── 'batch_scan_layers' is deprecated. Use 'scan' instead\n",
      "WARNING:root:╰──> at /home/yah2014/anaconda3/lib/python3.6/site-packages/loompy/loompy.py, line 399\n"
     ]
    }
   ],
   "source": [
    "loompy.combine(PDX_files, \"PDX_5.loom\")"
   ]
  },
  {
   "cell_type": "markdown",
   "metadata": {},
   "source": [
    "## Inspect the merged loom file"
   ]
  },
  {
   "cell_type": "markdown",
   "metadata": {},
   "source": [
    "Let’s start with loading the content of the .loom file into an interactive session of python.“VelocytoLoom” object supports some ready-made plotting functions. For example, one of the first checks is spliced/unspliced fractions of the dataset can be done by calling:"
   ]
  },
  {
   "cell_type": "code",
   "execution_count": 10,
   "metadata": {},
   "outputs": [
    {
     "data": {
      "image/png": "[encoded data removed]",
      "text/plain": [
       "<Figure size 230.4x360 with 1 Axes>"
      ]
     },
     "metadata": {},
     "output_type": "display_data"
    }
   ],
   "source": [
    "import velocyto as vcy\n",
    "vlm1 = vcy.VelocytoLoom(\"primary_3.loom\")\n",
    "vlm1.plot_fractions()"
   ]
  },
  {
   "cell_type": "code",
   "execution_count": 9,
   "metadata": {},
   "outputs": [
    {
     "data": {
      "image/png": "[encoded data removed]",
      "text/plain": [
       "<Figure size 230.4x360 with 1 Axes>"
      ]
     },
     "metadata": {},
     "output_type": "display_data"
    }
   ],
   "source": [
    "vlm2 = vcy.VelocytoLoom(\"PDX_5.loom\")\n",
    "vlm2.plot_fractions()"
   ]
  }
 ],
 "metadata": {
  "kernelspec": {
   "display_name": "Python 3",
   "language": "python",
   "name": "python3"
  },
  "language_info": {
   "codemirror_mode": {
    "name": "ipython",
    "version": 3
   },
   "file_extension": ".py",
   "mimetype": "text/x-python",
   "name": "python",
   "nbconvert_exporter": "python",
   "pygments_lexer": "ipython3",
   "version": "3.6.8"
  }
 },
 "nbformat": 4,
 "nbformat_minor": 2
}
